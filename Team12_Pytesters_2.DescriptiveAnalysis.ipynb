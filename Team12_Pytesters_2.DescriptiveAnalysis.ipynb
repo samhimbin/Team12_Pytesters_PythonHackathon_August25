{
 "cells": [
  {
   "cell_type": "markdown",
   "id": "f561fd74-449a-4d93-bf40-0a92c1fffcd2",
   "metadata": {},
   "source": [
    "<h1 style=\"text-align: center;\"><b>2.Descriptive Analysis</b></h1>"
   ]
  },
  {
   "cell_type": "markdown",
   "id": "27a87a2b-d8dd-4d67-a306-597c81569690",
   "metadata": {},
   "source": [
    "<font size=\"4\">**Q What is the distribution of average sleep duration across the different age groups?**</font>"
   ]
  },
  {
   "cell_type": "markdown",
   "id": "8542fc2b-fbc9-481b-8c54-4589defa9d86",
   "metadata": {},
   "source": [
    " **Analyzing this can provide insights into potential differences in sleep patterns across generations. The solution involves binning the Age column into distinct groups (e.g., \"Young,\" \"Middle-aged,\" \"Elderly\") and then calculating the average Average Sleep Duration (hrs) for each of these age groups.**"
   ]
  },
  {
   "cell_type": "code",
   "execution_count": 1,
   "id": "c4d2401a-af13-4358-90b7-f8269b7d5bf1",
   "metadata": {},
   "outputs": [
    {
     "name": "stdout",
     "output_type": "stream",
     "text": [
      "\u001b[1mDataFrame's Information:\u001b[0m\n",
      "\n",
      "<class 'pandas.core.frame.DataFrame'>\n",
      "RangeIndex: 25 entries, 0 to 24\n",
      "Data columns (total 7 columns):\n",
      " #   Column                        Non-Null Count  Dtype  \n",
      "---  ------                        --------------  -----  \n",
      " 0   Patient_ID                    25 non-null     object \n",
      " 1   Age                           25 non-null     int64  \n",
      " 2   Gender                        25 non-null     object \n",
      " 3   Race                          25 non-null     object \n",
      " 4   Average Sleep Duration (hrs)  25 non-null     float64\n",
      " 5   Sleep Quality (1-10)          25 non-null     float64\n",
      " 6   % with Sleep Disturbances     25 non-null     int64  \n",
      "dtypes: float64(2), int64(2), object(3)\n",
      "memory usage: 1.5+ KB\n",
      "\n",
      "\u001b[1mAverage Sleep Duration by Age Group:\u001b[0m\n",
      "\n",
      "Age Group\n",
      "20-29    6.133333\n",
      "30-39    6.171429\n",
      "40-49    5.860000\n",
      "50-59    6.150000\n",
      "60-69    5.857143\n",
      "Name: Average Sleep Duration (hrs), dtype: float64\n"
     ]
    }
   ],
   "source": [
    "import pandas as pd\n",
    "\n",
    "# Load your dataset from a CSV file.\n",
    "# Make sure to replace 'your_file_name.csv' with the actual path to your file.\n",
    "# Example: df = pd.read_csv('C:/Users/YourUsername/Documents/health_data.csv')\n",
    "df = pd.read_csv('C:\\Python_Hackathon_Aug2025\\HUPA-UC Diabetes Dataset\\T1DM_patient_sleep_demographics_with_race.csv')\n",
    "\n",
    "print(\"\\033[1mDataFrame's Information:\\033[0m\\n\")\n",
    "df.info()\n",
    "\n",
    "# Define age bins and labels\n",
    "bins = [20, 30, 40, 50, 60, 70]\n",
    "labels = ['20-29', '30-39', '40-49', '50-59', '60-69']\n",
    "\n",
    "# Create a new column 'Age Group' by binning the 'Age' column\n",
    "df['Age Group'] = pd.cut(df['Age'], bins=bins, labels=labels, right=False)\n",
    "\n",
    "# Group by 'Age Group' and calculate the mean of 'Average Sleep Duration (hrs)'\n",
    "sleep_duration_by_age = df.groupby('Age Group',observed =False)['Average Sleep Duration (hrs)'].mean()\n",
    "\n",
    "print(\"\\n\\033[1mAverage Sleep Duration by Age Group:\\033[0m\\n\")\n",
    "print(sleep_duration_by_age)\n",
    "\n"
   ]
  },
  {
   "cell_type": "markdown",
   "id": "3599df9b-60cf-483f-af82-720a533802a7",
   "metadata": {},
   "source": [
    "<font size=\"5\"> **Merging all patient files and demographic file and creating a new file**</font>"
   ]
  },
  {
   "cell_type": "code",
   "execution_count": 2,
   "id": "a5035715-4272-4c69-95a8-d152e301ab59",
   "metadata": {},
   "outputs": [
    {
     "name": "stdout",
     "output_type": "stream",
     "text": [
      "Final DataFrame with sleep quality columns created and saved as final_merged_file.csv\n",
      "                  time  glucose  calories  heart_rate  steps  basal_rate  \\\n",
      "0  2018-06-13T18:40:00    332.0    6.3595   82.322835   34.0    0.091667   \n",
      "1  2018-06-13T18:45:00    326.0    7.7280   83.740157    0.0    0.091667   \n",
      "2  2018-06-13T18:50:00    330.0    4.7495   80.525180    0.0    0.091667   \n",
      "3  2018-06-13T18:55:00    324.0    6.3595   89.129032   20.0    0.091667   \n",
      "4  2018-06-13T19:00:00    306.0    5.1520   92.495652    0.0    0.075000   \n",
      "\n",
      "   bolus_volume_delivered  carb_input patient_id  age gender   race  \\\n",
      "0                     0.0         0.0  HUPA0001P   34   Male  Other   \n",
      "1                     0.0         0.0  HUPA0001P   34   Male  Other   \n",
      "2                     0.0         0.0  HUPA0001P   34   Male  Other   \n",
      "3                     0.0         0.0  HUPA0001P   34   Male  Other   \n",
      "4                     0.0         0.0  HUPA0001P   34   Male  Other   \n",
      "\n",
      "   average sleep duration (hrs)  sleep quality (1-10)  \\\n",
      "0                           6.3                   4.5   \n",
      "1                           6.3                   4.5   \n",
      "2                           6.3                   4.5   \n",
      "3                           6.3                   4.5   \n",
      "4                           6.3                   4.5   \n",
      "\n",
      "   % with sleep disturbances  \n",
      "0                         80  \n",
      "1                         80  \n",
      "2                         80  \n",
      "3                         80  \n",
      "4                         80  \n"
     ]
    }
   ],
   "source": [
    "import pandas as pd\n",
    "import glob\n",
    "import os\n",
    "\n",
    "def merge_rawfiles():\n",
    "    # Merging raw data file as one file\n",
    "    files = glob.glob(r\"C:\\Python_Hackathon_Aug2025\\HUPA-UC Diabetes Dataset\\*.csv\")\n",
    "    df_files = []\n",
    "    for file in files:\n",
    "        filename = os.path.splitext(os.path.basename(file))[0]\n",
    "        if not filename.startswith(\"HUPA\"):\n",
    "            continue\n",
    "        df = pd.read_csv(file, delimiter=\";\")\n",
    "        \n",
    "        # Uniform column header in all files\n",
    "        df.columns = df.columns.str.strip().str.lower()\n",
    "        df.drop_duplicates(subset=[\"time\"], inplace=True)\n",
    "        df[\"patient_id\"] = filename\n",
    "        df_files.append(df)\n",
    "        \n",
    "    # Merge the patient data files\n",
    "    df = pd.concat(df_files, ignore_index=True)\n",
    "    \n",
    "    return df\n",
    "\n",
    "# Get the raw patient data DataFrame\n",
    "merged_raw_df = merge_rawfiles()\n",
    "\n",
    "# Reading the demographic patient file which contains the new columns\n",
    "demographic_df = pd.read_csv(r\"C:\\Python_Hackathon_Aug2025\\HUPA-UC Diabetes Dataset\\T1DM_patient_sleep_demographics_with_race.csv\")\n",
    "\n",
    "# Convert all column names in the demographic DataFrame to lowercase\n",
    "demographic_df.columns = demographic_df.columns.str.lower()\n",
    "\n",
    "# Merge the raw data with the demographic data on 'patient_id'\n",
    "final_df = pd.merge(merged_raw_df, demographic_df, on=\"patient_id\", how=\"left\")\n",
    "\n",
    "# Save the final merged file\n",
    "final_df.to_csv(r\"C:\\Python_Hackathon_Aug2025\\final_merged_file.csv\", index=False)\n",
    "\n",
    "print(\"Final DataFrame with sleep quality columns created and saved as final_merged_file.csv\")\n",
    "print(final_df.head())"
   ]
  },
  {
   "cell_type": "markdown",
   "id": "39812f9a-7485-42c0-a2ca-fd91fc46e720",
   "metadata": {},
   "source": [
    "<font size=\"3\">**Q Is there a correlation between sleep quality, sleep disturbances, and physical activity metrics (steps and calories)?**</font>"
   ]
  },
  {
   "cell_type": "markdown",
   "id": "589eae05-6d13-4da9-87ef-556fc7941007",
   "metadata": {},
   "source": [
    "**This question aims to investigate the relationships between different health and wellness metrics. By calculating the Pearson correlation coefficient, we can determine the strength and direction of the linear relationship between these variables. A positive correlation suggests that as one variable increases, so does the other, while a negative correlation suggests an inverse relationship.**"
   ]
  },
  {
   "cell_type": "code",
   "execution_count": 6,
   "id": "af742332-efd3-43ea-9f2c-9718144592a4",
   "metadata": {},
   "outputs": [
    {
     "name": "stdout",
     "output_type": "stream",
     "text": [
      "\u001b[1mDataFrame's Information:\u001b[0m\n",
      "\n",
      "<class 'pandas.core.frame.DataFrame'>\n",
      "RangeIndex: 309392 entries, 0 to 309391\n",
      "Data columns (total 15 columns):\n",
      " #   Column                        Non-Null Count   Dtype  \n",
      "---  ------                        --------------   -----  \n",
      " 0   time                          309392 non-null  object \n",
      " 1   glucose                       309392 non-null  float64\n",
      " 2   calories                      309392 non-null  float64\n",
      " 3   heart_rate                    309392 non-null  float64\n",
      " 4   steps                         309392 non-null  float64\n",
      " 5   basal_rate                    309392 non-null  float64\n",
      " 6   bolus_volume_delivered        309392 non-null  float64\n",
      " 7   carb_input                    309392 non-null  float64\n",
      " 8   patient_id                    309392 non-null  object \n",
      " 9   age                           309392 non-null  int64  \n",
      " 10  gender                        309392 non-null  object \n",
      " 11  race                          309392 non-null  object \n",
      " 12  average sleep duration (hrs)  309392 non-null  float64\n",
      " 13  sleep quality (1-10)          309392 non-null  float64\n",
      " 14  % with sleep disturbances     309392 non-null  int64  \n",
      "dtypes: float64(9), int64(2), object(4)\n",
      "memory usage: 35.4+ MB\n",
      "\n",
      "\u001b[1mCorrelation Matrix of Sleep, Disturbance, and Physical Activity Metrics:\u001b[0m\n",
      "\n",
      "                           sleep quality (1-10)  % with sleep disturbances  \\\n",
      "sleep quality (1-10)                   1.000000                  -0.280536   \n",
      "% with sleep disturbances             -0.280536                   1.000000   \n",
      "steps                                 -0.065487                   0.010691   \n",
      "calories                               0.003256                   0.138353   \n",
      "\n",
      "                              steps  calories  \n",
      "sleep quality (1-10)      -0.065487  0.003256  \n",
      "% with sleep disturbances  0.010691  0.138353  \n",
      "steps                      1.000000  0.802922  \n",
      "calories                   0.802922  1.000000  \n"
     ]
    }
   ],
   "source": [
    "import pandas as pd\n",
    "\n",
    "# Load your dataset from a CSV file.\n",
    "# Make sure to replace 'your_file_name.csv' with the actual path to your file.\n",
    "# For example: df = pd.read_csv('C:/Users/YourUsername/Documents/health_data.csv')\n",
    "df = pd.read_csv(r'C:\\Python_Hackathon_Aug2025\\final_merged_file.csv')\n",
    "\n",
    "print(\"\\033[1mDataFrame's Information:\\033[0m\\n\")\n",
    "df.info()\n",
    "\n",
    "# Create a new DataFrame with only the relevant columns for correlation\n",
    "correlation_df = df[['sleep quality (1-10)', '% with sleep disturbances', 'steps', 'calories']]\n",
    "\n",
    "# Calculate the correlation matrix\n",
    "correlation_matrix = correlation_df.corr(method='pearson')\n",
    "\n",
    "print(\"\\n\\033[1mCorrelation Matrix of Sleep, Disturbance, and Physical Activity Metrics:\\033[0m\\n\")\n",
    "print(correlation_matrix)\n"
   ]
  },
  {
   "cell_type": "markdown",
   "id": "ca3c054d-3e11-42a1-971f-8bfcb4cebe2a",
   "metadata": {},
   "source": [
    "**Key Concept to understand:A correlation coefficient is a number between -1 and +1 that indicates the strength and direction of a linear relationship between two variables.**</font>"
   ]
  },
  {
   "cell_type": "markdown",
   "id": "c52e8886-b8f0-4a02-9ff8-a4132fa331bc",
   "metadata": {},
   "source": [
    "**Correlation Coefficient\tInterpretation**\n",
    "<ul><li>sleep quality (1-10) vs. % with sleep disturbances\t-0.280536\tThis is a weak negative correlation. As the percentage of time with sleep disturbances increases, a patient's sleep quality tends to slightly decrease, which is an expected relationship.\n",
    "</li><li>steps vs. calories\t0.802922\tThis is a strong positive correlation. As the number of steps taken increases, the number of calories burned also increases significantly. This is a very strong and expected relationship, as physical activity directly leads to calorie expenditure.\n",
    "</li><li>sleep quality (1-10) vs. steps\t-0.065487\tThis is a very weak negative correlation. The relationship is negligible, suggesting that there is no meaningful linear connection between a patient's sleep quality and the number of steps they take.\n",
    "</li><li>% with sleep disturbances vs. calories\t0.138353\tThis is a very weak positive correlation. The relationship is negligible, suggesting that a higher percentage of sleep disturbances has a minimal, if any, effect on calories burned.</li></ul>"
   ]
  },
  {
   "cell_type": "code",
   "execution_count": null,
   "id": "0b1200b3-e3cf-4ce2-8a7d-13671734ad70",
   "metadata": {},
   "outputs": [],
   "source": []
  }
 ],
 "metadata": {
  "kernelspec": {
   "display_name": "Python 3 (ipykernel)",
   "language": "python",
   "name": "python3"
  },
  "language_info": {
   "codemirror_mode": {
    "name": "ipython",
    "version": 3
   },
   "file_extension": ".py",
   "mimetype": "text/x-python",
   "name": "python",
   "nbconvert_exporter": "python",
   "pygments_lexer": "ipython3",
   "version": "3.13.5"
  }
 },
 "nbformat": 4,
 "nbformat_minor": 5
}
