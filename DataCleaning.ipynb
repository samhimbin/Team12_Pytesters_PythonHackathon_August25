{
 "cells": [
  {
   "cell_type": "markdown",
   "id": "31a84eea-fcd0-44de-8b3e-f0100d403147",
   "metadata": {},
   "source": [
    "Data Cleaning to analyze given data set having relationship between lifestyle behaviors (activity, sleep, diet) and glucose regulation in diabetic patients."
   ]
  },
  {
   "cell_type": "code",
   "execution_count": 443,
   "id": "a299df2d-5b87-483a-a284-e60b0a999c96",
   "metadata": {},
   "outputs": [],
   "source": [
    "import glob\n",
    "import os\n",
    "import pandas as pd"
   ]
  },
  {
   "cell_type": "code",
   "execution_count": 444,
   "id": "a3df28ef-6ebd-462f-a553-f948efae831a",
   "metadata": {},
   "outputs": [],
   "source": [
    "# Get all csv files from folder\n",
    "files = glob.glob(\"/Users/venmeen/Downloads/HUPA-UC Diabetes Dataset/*.csv\")\n",
    "\n",
    "# Reading demographic patient file\n",
    "demographic_df = pd.read_csv(\"/Users/venmeen/Downloads/HUPA-UC Diabetes Dataset/T1DM_patient_sleep_demographics_with_race.csv\")"
   ]
  },
  {
   "cell_type": "markdown",
   "id": "ebe97423-81a2-40c3-b3c2-3a00646b6d2a",
   "metadata": {},
   "source": [
    "<h4>Merging 25 patient data files as one file </h4>\n",
    "<h5><font face=\"TimesNewRoman\">Adding patient_Id column as unique identifier based on filename</h5>\n",
    "<h5><font face=\"TimesNewRoman\">Reasoning: Merging files together will help for group analysis like finiding glucose trends and other general pattern across patients</h5>"
   ]
  },
  {
   "cell_type": "code",
   "execution_count": 446,
   "id": "23d507bc-5720-4ae1-8789-09d5a4e33ab6",
   "metadata": {},
   "outputs": [],
   "source": [
    "def merge_rawfiles():\n",
    "# Merging raw data file as one file\n",
    "    df_files = []\n",
    "    for file in files:\n",
    "\n",
    "        filename = os.path.splitext(os.path.basename(file))[0]\n",
    "        if not filename.startswith(\"HUPA\"):\n",
    "            continue\n",
    "        df = pd.read_csv(file,sep=\";\") \n",
    "\n",
    "        # Uniform column header in all files\n",
    "        df.columns = df.columns.str.strip().str.lower()\n",
    "\n",
    "        # Removing duplicate rows - if more than one record has the same time for single patient, then it is considered as duplicate.\n",
    "        df.drop_duplicates(subset=[\"time\"], inplace= True)\n",
    "    \n",
    "        #Add patient_id since we are merging all files together\n",
    "        df[\"patient_id\"] = filename\n",
    "        df_files.append(df)\n",
    "\n",
    "    # Merge the patient data files\n",
    "    df = pd.concat(df_files, ignore_index=True)\n",
    "\n",
    "    # Saving it as Single Merged csv file\n",
    "    df.to_csv(\"mergedraw_file.csv\", index=False)\n",
    "    return df"
   ]
  },
  {
   "cell_type": "markdown",
   "id": "d26a414e-f612-45cf-afc8-913c6ef0ae89",
   "metadata": {},
   "source": [
    "<h4>Verying data by checking for column's data types,null values and Nan values</h4>"
   ]
  },
  {
   "cell_type": "code",
   "execution_count": 527,
   "id": "01b394cc-f906-4ed0-9e00-de0f8be26b2a",
   "metadata": {},
   "outputs": [],
   "source": [
    "def verify_data():\n",
    "    print(\"\\033[1mDataFrame's Information:\\033[0m\\n\")\n",
    "    print(df.info())\n",
    "    print(\"\\033[0m\\nNull Value Count:\\033[0m\\n\",df.isnull().sum())\n",
    "    print(\"\\033[0m\\nNan Values:\\033[0m\\n\",df.isna().sum())\n",
    "    print(\"\\033[0m\\nNumber of rows and cols:\\033[0m\\n\",df.shape)\n",
    "    print(\"\\033[0m\\nDescription of DataFrame :\\033[0m\\n\")\n",
    "    print(df.describe)"
   ]
  },
  {
   "cell_type": "markdown",
   "id": "4396e844-5d84-4e3c-97a9-abb2a1f25bda",
   "metadata": {},
   "source": [
    "<h4>Display Raw Merged File Information as it is</h4>"
   ]
  },
  {
   "cell_type": "code",
   "execution_count": 510,
   "id": "507c6794-66b6-4ed1-9715-dc68be95ee90",
   "metadata": {},
   "outputs": [
    {
     "name": "stdout",
     "output_type": "stream",
     "text": [
      "\u001b[1mRaw Merged Data Info:\u001b[0m\n",
      "\n",
      "\u001b[1mDataFrame's Information:\u001b[0m\n",
      "\n",
      "<class 'pandas.core.frame.DataFrame'>\n",
      "RangeIndex: 309392 entries, 0 to 309391\n",
      "Data columns (total 9 columns):\n",
      " #   Column                  Non-Null Count   Dtype  \n",
      "---  ------                  --------------   -----  \n",
      " 0   time                    309392 non-null  object \n",
      " 1   glucose                 309392 non-null  float64\n",
      " 2   calories                309392 non-null  float64\n",
      " 3   heart_rate              309392 non-null  float64\n",
      " 4   steps                   309392 non-null  float64\n",
      " 5   basal_rate              309392 non-null  float64\n",
      " 6   bolus_volume_delivered  309392 non-null  float64\n",
      " 7   carb_input              309392 non-null  float64\n",
      " 8   patient_id              309392 non-null  object \n",
      "dtypes: float64(7), object(2)\n",
      "memory usage: 21.2+ MB\n",
      "None\n",
      "\u001b[0m\n",
      "Null Value Count:\u001b[0m\n",
      " time                      0\n",
      "glucose                   0\n",
      "calories                  0\n",
      "heart_rate                0\n",
      "steps                     0\n",
      "basal_rate                0\n",
      "bolus_volume_delivered    0\n",
      "carb_input                0\n",
      "patient_id                0\n",
      "dtype: int64\n",
      "\u001b[0m\n",
      "Nan Values:\u001b[0m\n",
      " time                      0\n",
      "glucose                   0\n",
      "calories                  0\n",
      "heart_rate                0\n",
      "steps                     0\n",
      "basal_rate                0\n",
      "bolus_volume_delivered    0\n",
      "carb_input                0\n",
      "patient_id                0\n",
      "dtype: int64\n",
      "\u001b[0m\n",
      "Number of rows and cols:\u001b[0m\n",
      " (309392, 9)\n",
      "\u001b[0m\n",
      "Description of DataFrame :\u001b[0m\n",
      " <bound method NDFrame.describe of                        time     glucose  calories  heart_rate  steps  \\\n",
      "0       2020-01-17T00:00:00   40.000000  15.04290   96.371901    8.0   \n",
      "1       2020-01-17T00:05:00   41.333333   8.31640   91.395349    0.0   \n",
      "2       2020-01-17T00:10:00   42.666667   7.58260   85.991935    0.0   \n",
      "3       2020-01-17T00:15:00   44.000000   7.33800   82.434426    0.0   \n",
      "4       2020-01-17T00:20:00   50.000000   7.58260   78.822581    0.0   \n",
      "...                     ...         ...       ...         ...    ...   \n",
      "309387  2019-07-13T18:20:00   70.000000  13.58784   85.123967   61.0   \n",
      "309388  2019-07-13T18:25:00   80.000000   6.57824   81.886179    0.0   \n",
      "309389  2019-07-13T18:30:00   90.000000   6.90176   84.046154    0.0   \n",
      "309390  2019-07-13T18:35:00  108.666667   6.47040   82.110236    0.0   \n",
      "309391  2019-07-13T18:40:00  127.333333   5.60768   85.696970    0.0   \n",
      "\n",
      "        basal_rate  bolus_volume_delivered  carb_input patient_id  \n",
      "0            0.035                     0.0         1.0  HUPA0023P  \n",
      "1            0.035                     0.0         0.0  HUPA0023P  \n",
      "2            0.035                     0.0         0.0  HUPA0023P  \n",
      "3            0.035                     0.0         0.0  HUPA0023P  \n",
      "4            0.035                     0.0         0.0  HUPA0023P  \n",
      "...            ...                     ...         ...        ...  \n",
      "309387       0.152                     0.0         0.0  HUPA0020P  \n",
      "309388       0.152                     0.0         0.0  HUPA0020P  \n",
      "309389       0.152                     0.0         0.0  HUPA0020P  \n",
      "309390       0.152                     0.0         0.0  HUPA0020P  \n",
      "309391       0.152                     0.0         0.0  HUPA0020P  \n",
      "\n",
      "[309392 rows x 9 columns]>\n"
     ]
    }
   ],
   "source": [
    "df = merge_rawfiles()\n",
    "print(\"\\033[1mRaw Merged Data Info:\\033[0m\\n\")\n",
    "verify_data()"
   ]
  },
  {
   "cell_type": "markdown",
   "id": "21b0a942-9f64-43ea-9583-679bcabd3c6b",
   "metadata": {},
   "source": [
    "<h4>Setting index with time and patient_id</h4>\n",
    "<h5><font face=\"TimesNewRoman\">set time and patient_id as multi_index to identify particular record.</font></h5>\n",
    "<h5><font face=\"TimesNewRoman\">Reasoning: This index will help for resampling, rolling averages and for plotting</font></h5>"
   ]
  },
  {
   "cell_type": "code",
   "execution_count": 450,
   "id": "0ff41739-e801-42ca-8a31-87ae5dc5d8f0",
   "metadata": {},
   "outputs": [],
   "source": [
    "def set_index(df):\n",
    "\n",
    "    # Setting the time and patient_id column as multi_index \n",
    "    df.set_index(['time','patient_id'])"
   ]
  },
  {
   "cell_type": "markdown",
   "id": "f1b33935-1679-48b3-a1f3-1f39745f13fa",
   "metadata": {},
   "source": [
    "<h4> Ensure the columns DataTypes</h4>"
   ]
  },
  {
   "cell_type": "code",
   "execution_count": 531,
   "id": "8c5934b6-0569-4b58-96cd-478b881f95c1",
   "metadata": {},
   "outputs": [],
   "source": [
    "def ensure_col_dtype():\n",
    "\n",
    "    # Collecting column names in one list\n",
    "    cols_dtype = ['glucose', 'calories', 'heart_rate','steps','basal_rate','bolus_volume_delivered','carb_input']\n",
    "\n",
    "    #Ensure all the columns in list are in numeric\n",
    "    df[cols_dtype] = df[cols_dtype].apply(pd.to_numeric, errors='coerce')\n",
    "\n",
    "    #Setting patient_id column as string\n",
    "    df['patient_id'] = df['patient_id'].astype(\"string\")\n",
    "\n",
    "    #Setting time column as datetime\n",
    "    df[\"time\"] = pd.to_datetime(df[\"time\"],errors=\"coerce\")\n",
    "    return df"
   ]
  },
  {
   "cell_type": "markdown",
   "id": "3ff87e77-8d1d-4000-b326-ef0feb0c53b0",
   "metadata": {},
   "source": [
    "<h4> Standardize numeric column values </h4>\n",
    "<font face=\"TimesNewRoman\">Rounding the float value to 3 decimal numbers for clarity and usability</font>"
   ]
  },
  {
   "cell_type": "code",
   "execution_count": 533,
   "id": "2d929595-ba0b-4811-9b87-500077855a1f",
   "metadata": {},
   "outputs": [],
   "source": [
    "def standardize_numeric_cols():\n",
    "    stdardize_cols = ['glucose', 'calories', 'heart_rate']\n",
    "    df[stdardize_cols] = df[stdardize_cols].round(3)\n",
    "    return df"
   ]
  },
  {
   "cell_type": "markdown",
   "id": "d12f557b-10e6-4b26-9ac6-b942e95d0d99",
   "metadata": {},
   "source": [
    "<h4> Check for negative values in numeric columns </h4>\n",
    "<font face=\"TimesNewRoman\">To treat the negative values as error</font>"
   ]
  },
  {
   "cell_type": "code",
   "execution_count": 456,
   "id": "aa4383ea-45ec-4abc-b471-9f68dd12f11d",
   "metadata": {},
   "outputs": [],
   "source": [
    "def check_negative_values():\n",
    "    columns = ['glucose', 'calories', 'heart_rate', 'steps', 'basal_rate', 'bolus_volume_delivered', 'carb_input']\n",
    "    col_negative_values = (df[columns] < 0).any()\n",
    "    print(col_negative_values)"
   ]
  },
  {
   "cell_type": "markdown",
   "id": "abce98c2-9346-4264-92f2-45bd59064382",
   "metadata": {},
   "source": [
    "<h4> Display After Treating the Data</h4>"
   ]
  },
  {
   "cell_type": "code",
   "execution_count": 535,
   "id": "99ca27d4-37c3-4013-bacd-4f74751e7ffb",
   "metadata": {},
   "outputs": [
    {
     "name": "stdout",
     "output_type": "stream",
     "text": [
      "\u001b[1mChecking for negative values in columns:\u001b[0m\n",
      "\n",
      "glucose                   False\n",
      "calories                  False\n",
      "heart_rate                False\n",
      "steps                     False\n",
      "basal_rate                False\n",
      "bolus_volume_delivered     True\n",
      "carb_input                False\n",
      "dtype: bool\n"
     ]
    }
   ],
   "source": [
    "set_index(df)\n",
    "df = standardize_numeric_cols()\n",
    "df = ensure_col_dtype()\n",
    "print(\"\\033[1mChecking for negative values in columns:\\033[0m\\n\")\n",
    "check_negative_values()"
   ]
  },
  {
   "cell_type": "markdown",
   "id": "cc7f5cf3-9c37-4bb2-ab43-66dde1723369",
   "metadata": {},
   "source": [
    "<h4>Setting up glucose range</h4>\n",
    "Glucose range provides framework to evaluate a patient's blood sugar control"
   ]
  },
  {
   "cell_type": "code",
   "execution_count": 521,
   "id": "f891d013-f66e-42a7-9d78-e963f7234682",
   "metadata": {},
   "outputs": [],
   "source": [
    "def classify_by_glucose_value(value):\n",
    "    if pd.isna(value): \n",
    "        return \"NA\"\n",
    "    if value < 40 or value > 500:\n",
    "        return \"Invalid\"\n",
    "    elif value < 70:\n",
    "        return \"Below Range\"\n",
    "    elif value > 180:\n",
    "        return \"Above Range\"\n",
    "    else:\n",
    "        return \"In Range\"\n",
    "        \n",
    "def set_glucose_range(df):\n",
    "    df[\"glucose_range_level\"] = df[\"glucose\"].apply(classify_by_glucose_value)"
   ]
  },
  {
   "cell_type": "markdown",
   "id": "3b074f5e-bf0d-4555-a6ba-e82671398633",
   "metadata": {},
   "source": [
    "<h4>Setting up Calories Burned into categories for easy Analysis</h4>\n",
    "<h4><font face=\"TimeNewRoman\">Classifying the burned calories data as (0-4 calories burned)'Resting', (5-19 calories burned)'Light Activity', (20-34 calories burned)'Moderate Activity', (35-50 calories burned)'Intense activity', (50-59 calories burned)'Very Extreme/SPIKE' and more then 60 is considered as Error since this is 5 min interval data</font></h4>"
   ]
  },
  {
   "cell_type": "code",
   "execution_count": 462,
   "id": "cd7f87a1-932e-4976-9f9b-ac894c4380a9",
   "metadata": {},
   "outputs": [],
   "source": [
    "def set_caloriesburned_categories(value):\n",
    "    if value < 5:\n",
    "        return \"Resting\"\n",
    "    elif 5 <= value <20:\n",
    "        return \"Light Activity\"\n",
    "    elif 20 <= value <35:\n",
    "        return \"Moderate Activity\"\n",
    "    elif 35 <= value <50:\n",
    "        return \"Intense activity\"\n",
    "    elif 50 <= value <60:\n",
    "        return \"Very Extreme/SPIKE\"\n",
    "    elif value >60:\n",
    "        return \"ERROR\"\n",
    "def calories_categories(df):\n",
    "    df['calories_categories'] = df['calories'].apply(set_caloriesburned_categories)"
   ]
  },
  {
   "cell_type": "code",
   "execution_count": 523,
   "id": "828ced14-ae83-481c-9683-727452022741",
   "metadata": {},
   "outputs": [],
   "source": [
    "set_glucose_range(df)\n",
    "calories_categories(df)"
   ]
  },
  {
   "cell_type": "markdown",
   "id": "9b9bbb47-4839-4b7b-9f8d-96957b5acde9",
   "metadata": {},
   "source": [
    "<h4>Display After setting Range validation columns</h4>"
   ]
  },
  {
   "cell_type": "code",
   "execution_count": 537,
   "id": "a7005d2b-7385-4ed8-9bce-f3af23b525c9",
   "metadata": {},
   "outputs": [
    {
     "name": "stdout",
     "output_type": "stream",
     "text": [
      "\u001b[1mAfter DataCleanup:\u001b[0m\n",
      "\n",
      "\u001b[1mDataFrame's Information:\u001b[0m\n",
      "\n",
      "<class 'pandas.core.frame.DataFrame'>\n",
      "RangeIndex: 309392 entries, 0 to 309391\n",
      "Data columns (total 11 columns):\n",
      " #   Column                  Non-Null Count   Dtype         \n",
      "---  ------                  --------------   -----         \n",
      " 0   time                    309392 non-null  datetime64[ns]\n",
      " 1   glucose                 309392 non-null  float64       \n",
      " 2   calories                309392 non-null  float64       \n",
      " 3   heart_rate              309392 non-null  float64       \n",
      " 4   steps                   309392 non-null  float64       \n",
      " 5   basal_rate              309392 non-null  float64       \n",
      " 6   bolus_volume_delivered  309392 non-null  float64       \n",
      " 7   carb_input              309392 non-null  float64       \n",
      " 8   patient_id              309392 non-null  string        \n",
      " 9   glucose_range_level     309392 non-null  object        \n",
      " 10  calories_categories     309392 non-null  object        \n",
      "dtypes: datetime64[ns](1), float64(7), object(2), string(1)\n",
      "memory usage: 26.0+ MB\n",
      "None\n",
      "\u001b[0m\n",
      "Null Value Count:\u001b[0m\n",
      " time                      0\n",
      "glucose                   0\n",
      "calories                  0\n",
      "heart_rate                0\n",
      "steps                     0\n",
      "basal_rate                0\n",
      "bolus_volume_delivered    0\n",
      "carb_input                0\n",
      "patient_id                0\n",
      "glucose_range_level       0\n",
      "calories_categories       0\n",
      "dtype: int64\n",
      "\u001b[0m\n",
      "Nan Values:\u001b[0m\n",
      " time                      0\n",
      "glucose                   0\n",
      "calories                  0\n",
      "heart_rate                0\n",
      "steps                     0\n",
      "basal_rate                0\n",
      "bolus_volume_delivered    0\n",
      "carb_input                0\n",
      "patient_id                0\n",
      "glucose_range_level       0\n",
      "calories_categories       0\n",
      "dtype: int64\n",
      "\u001b[0m\n",
      "Number of rows and cols:\u001b[0m\n",
      " (309392, 11)\n",
      "\u001b[0m\n",
      "Description of DataFrame :\u001b[0m\n",
      "\n",
      "<bound method NDFrame.describe of                       time  glucose  calories  heart_rate  steps  basal_rate  \\\n",
      "0      2020-01-17 00:00:00   40.000    15.043      96.372    8.0       0.035   \n",
      "1      2020-01-17 00:05:00   41.333     8.316      91.395    0.0       0.035   \n",
      "2      2020-01-17 00:10:00   42.667     7.583      85.992    0.0       0.035   \n",
      "3      2020-01-17 00:15:00   44.000     7.338      82.434    0.0       0.035   \n",
      "4      2020-01-17 00:20:00   50.000     7.583      78.823    0.0       0.035   \n",
      "...                    ...      ...       ...         ...    ...         ...   \n",
      "309387 2019-07-13 18:20:00   70.000    13.588      85.124   61.0       0.152   \n",
      "309388 2019-07-13 18:25:00   80.000     6.578      81.886    0.0       0.152   \n",
      "309389 2019-07-13 18:30:00   90.000     6.902      84.046    0.0       0.152   \n",
      "309390 2019-07-13 18:35:00  108.667     6.470      82.110    0.0       0.152   \n",
      "309391 2019-07-13 18:40:00  127.333     5.608      85.697    0.0       0.152   \n",
      "\n",
      "        bolus_volume_delivered  carb_input patient_id glucose_range_level  \\\n",
      "0                          0.0         1.0  HUPA0023P         Below Range   \n",
      "1                          0.0         0.0  HUPA0023P         Below Range   \n",
      "2                          0.0         0.0  HUPA0023P         Below Range   \n",
      "3                          0.0         0.0  HUPA0023P         Below Range   \n",
      "4                          0.0         0.0  HUPA0023P         Below Range   \n",
      "...                        ...         ...        ...                 ...   \n",
      "309387                     0.0         0.0  HUPA0020P            In Range   \n",
      "309388                     0.0         0.0  HUPA0020P            In Range   \n",
      "309389                     0.0         0.0  HUPA0020P            In Range   \n",
      "309390                     0.0         0.0  HUPA0020P            In Range   \n",
      "309391                     0.0         0.0  HUPA0020P            In Range   \n",
      "\n",
      "       calories_categories  \n",
      "0           Light Activity  \n",
      "1           Light Activity  \n",
      "2           Light Activity  \n",
      "3           Light Activity  \n",
      "4           Light Activity  \n",
      "...                    ...  \n",
      "309387      Light Activity  \n",
      "309388      Light Activity  \n",
      "309389      Light Activity  \n",
      "309390      Light Activity  \n",
      "309391      Light Activity  \n",
      "\n",
      "[309392 rows x 11 columns]>\n"
     ]
    }
   ],
   "source": [
    "print(\"\\033[1mAfter DataCleanup:\\033[0m\\n\")\n",
    "verify_data()"
   ]
  },
  {
   "cell_type": "code",
   "execution_count": null,
   "id": "7b3dd896-2a00-43b2-a26a-9f3263a9a30b",
   "metadata": {},
   "outputs": [],
   "source": []
  }
 ],
 "metadata": {
  "kernelspec": {
   "display_name": "Python [conda env:base] *",
   "language": "python",
   "name": "conda-base-py"
  },
  "language_info": {
   "codemirror_mode": {
    "name": "ipython",
    "version": 3
   },
   "file_extension": ".py",
   "mimetype": "text/x-python",
   "name": "python",
   "nbconvert_exporter": "python",
   "pygments_lexer": "ipython3",
   "version": "3.12.2"
  }
 },
 "nbformat": 4,
 "nbformat_minor": 5
}
