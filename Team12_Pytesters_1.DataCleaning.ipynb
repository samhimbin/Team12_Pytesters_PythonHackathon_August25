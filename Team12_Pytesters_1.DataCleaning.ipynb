{
 "cells": [
  {
   "cell_type": "markdown",
   "id": "31a84eea-fcd0-44de-8b3e-f0100d403147",
   "metadata": {},
   "source": [
    "# 1. Data pre-preparation"
   ]
  },
  {
   "cell_type": "code",
   "execution_count": 22,
   "id": "a299df2d-5b87-483a-a284-e60b0a999c96",
   "metadata": {},
   "outputs": [],
   "source": [
    "import glob\n",
    "import os\n",
    "import pandas as pd"
   ]
  },
  {
   "cell_type": "code",
   "execution_count": 71,
   "id": "a3df28ef-6ebd-462f-a553-f948efae831a",
   "metadata": {},
   "outputs": [],
   "source": [
    "# Get all csv files from folder\n",
    "files = glob.glob(r\"C:\\Febi\\NumpyNinja\\Hackathon\\Python_Launch Folder\\Launch Folder\\HUPA-UC Diabetes Dataset\\*.csv\")\n",
    "\n",
    "demographic_df = pd.read_csv(r\"C:\\Febi\\NumpyNinja\\Hackathon\\Python_Launch Folder\\Launch Folder\\HUPA-UC Diabetes Dataset\\T1DM_patient_sleep_demographics_with_race.csv\")"
   ]
  },
  {
   "cell_type": "markdown",
   "id": "ebe97423-81a2-40c3-b3c2-3a00646b6d2a",
   "metadata": {},
   "source": [
    "**Merging 25 patient data files as one file for cleanup and Analysis**\n",
    "<h5>Adding patient_Id column as unique identifier based on filename</h5>"
   ]
  },
  {
   "cell_type": "code",
   "execution_count": 25,
   "id": "23d507bc-5720-4ae1-8789-09d5a4e33ab6",
   "metadata": {},
   "outputs": [],
   "source": [
    "def merge_rawfiles():\n",
    "# Merging raw data file as one file\n",
    "    df_files = []\n",
    "    for file in files:\n",
    "\n",
    "        filename = os.path.basename(file)\n",
    "        if not filename.startswith(\"HUPA\"):\n",
    "            continue\n",
    "        df = pd.read_csv(file,sep=\";\") \n",
    "\n",
    "        # Uniform column header in all files\n",
    "        df.columns = df.columns.str.strip().str.lower()\n",
    "        \n",
    "        #Add patient_id\n",
    "        df[\"patient_id\"] = filename\n",
    "        df_files.append(df)\n",
    "\n",
    "    # Merge the patient data files\n",
    "    df = pd.concat(df_files, ignore_index=True)\n",
    "\n",
    "    # Saving it as Single Merged file\n",
    "    df.to_csv(\"mergedraw_file.csv\", index=False)\n",
    "    return df"
   ]
  },
  {
   "cell_type": "markdown",
   "id": "21b0a942-9f64-43ea-9583-679bcabd3c6b",
   "metadata": {},
   "source": [
    "<h4>standardize based on time</h4>\n",
    "<h5><font=\"TimesNewRoman\">Parsed datetime, removed duplicate rows based on time and set time as index</font></h5>"
   ]
  },
  {
   "cell_type": "code",
   "execution_count": 27,
   "id": "0ff41739-e801-42ca-8a31-87ae5dc5d8f0",
   "metadata": {},
   "outputs": [],
   "source": [
    "def standardize_basedontime(df):\n",
    "\n",
    "    # Time Parser for datetime calculation\n",
    "    if \"time\" in df.columns:\n",
    "        df[\"time\"] = pd.to_datetime(df[\"time\"],errors=\"coerce\")\n",
    "\n",
    "    # Setting the time column as index\n",
    "    df.set_index(\"time\")\n",
    "        \n",
    "    # Removing duplicate rows\n",
    "    df = df.drop_duplicates(subset=[\"time\"])\n"
   ]
  },
  {
   "cell_type": "markdown",
   "id": "1a317097-a763-4d07-867f-b057f3e89557",
   "metadata": {},
   "source": [
    "### Heart Rate column pre-processing\n",
    "\n",
    "#### Reasoning: HR Range validation and categorizing helps for grouped analysis"
   ]
  },
  {
   "cell_type": "code",
   "execution_count": 38,
   "id": "1729b0e7-0f0b-4b0c-aa59-995b406c6b86",
   "metadata": {},
   "outputs": [],
   "source": [
    "def hr_category(hr):\n",
    "\n",
    "    # To HR Range validation and categorizing\n",
    "    if  (hr >= 40) & (hr <= 100): \n",
    "        return 'Normal'\n",
    "         \n",
    "    elif  (hr >= 101) & (hr <= 180):\n",
    "      return 'Active'\n",
    "    \n",
    "    elif (hr >= 180) & (hr < 220):\n",
    "       return 'High'\n",
    "\n",
    "    else: \n",
    "        return 'Abnormal'"
   ]
  },
  {
   "cell_type": "markdown",
   "id": "851688e4-9cc3-44d1-9d40-288262d3f310",
   "metadata": {},
   "source": [
    "### Steps column validation \n",
    "\n",
    "#### Reasoning: Validation of steps column range between 0 - 1500 to investigate extreme outliers and negative values.\n"
   ]
  },
  {
   "cell_type": "code",
   "execution_count": 41,
   "id": "c3c19a69-7a2d-492e-9f3c-49cdebbf4bb7",
   "metadata": {},
   "outputs": [
    {
     "data": {
      "text/plain": [
       "0.0"
      ]
     },
     "execution_count": 41,
     "metadata": {},
     "output_type": "execute_result"
    }
   ],
   "source": [
    "df[(df['steps'] < 0) | (df['steps'] > 1500)]['steps'].sum()"
   ]
  },
  {
   "cell_type": "markdown",
   "id": "75226485-4b78-411c-ace7-58c0e6eb8b2e",
   "metadata": {},
   "source": [
    "### Carb_input validation\n",
    "\n",
    "#### Reasoning: Validation of carb_input column to investigate extreme outliers and negative values. "
   ]
  },
  {
   "cell_type": "code",
   "execution_count": 44,
   "id": "e8e72874-318c-4870-b97c-8f958a52307a",
   "metadata": {},
   "outputs": [
    {
     "data": {
      "text/plain": [
       "0.0"
      ]
     },
     "execution_count": 44,
     "metadata": {},
     "output_type": "execute_result"
    }
   ],
   "source": [
    "df[(df['carb_input'] < 0) | (df['carb_input'] > 150)]['carb_input'].sum()"
   ]
  },
  {
   "cell_type": "markdown",
   "id": "b2848e8b-85c9-42ed-9977-cf63af6cda4d",
   "metadata": {},
   "source": [
    "### Basal_rate validation\n",
    "\n",
    "#### Reasoning: Validation of basal_rate column to investigate extreme outliers and negative values."
   ]
  },
  {
   "cell_type": "code",
   "execution_count": 49,
   "id": "36833728-5f05-42de-89f5-359eb9f03379",
   "metadata": {},
   "outputs": [
    {
     "name": "stdout",
     "output_type": "stream",
     "text": [
      "Empty DataFrame\n",
      "Columns: [time, glucose, calories, heart_rate, steps, basal_rate, bolus_volume_delivered, carb_input, patient_id]\n",
      "Index: []\n"
     ]
    }
   ],
   "source": [
    "print(df[df['basal_rate'] < 0])"
   ]
  },
  {
   "cell_type": "markdown",
   "id": "c906547f-6818-4a06-bf03-2ac001555791",
   "metadata": {},
   "source": [
    "### Bolus_volume_delivered validation\n",
    "\n",
    "#### Reasoning: Validation of bolus_volume_delivered column to investigate extreme outliers and negative values."
   ]
  },
  {
   "cell_type": "code",
   "execution_count": 56,
   "id": "ed11b53a-bffa-4390-9446-b17be276a0c5",
   "metadata": {},
   "outputs": [
    {
     "name": "stdout",
     "output_type": "stream",
     "text": [
      "patient_id     time                 glucose  calories  heart_rate  steps  basal_rate  bolus_volume_delivered  carb_input\n",
      "HUPA0017P.csv  2019-03-29 15:00:00  103.0    6.48924   84.178571   0.0    0.059       -1.0                    7.0           1\n",
      "               2019-03-31 14:30:00  84.0     4.77150   98.220272   0.0    0.059       -1.0                    4.0           1\n",
      "               2019-04-06 12:45:00  134.0    14.60079  100.230769  84.0   0.059       -3.0                    4.0           1\n",
      "               2019-04-07 13:15:00  97.0     4.77150   98.323864   0.0    0.059       -1.0                    2.5           1\n",
      "Name: count, dtype: int64\n"
     ]
    }
   ],
   "source": [
    "print(df[df['bolus_volume_delivered']<0].groupby(by='patient_id').value_counts())"
   ]
  },
  {
   "cell_type": "markdown",
   "id": "59c6422e-ff7e-4328-9f6c-cf16cbe38527",
   "metadata": {},
   "source": [
    "#### Reasoning: Treating all negative bolus_volume_delivered to 0 helps to maintain clean data "
   ]
  },
  {
   "cell_type": "code",
   "execution_count": 68,
   "id": "c229461a-753d-43bd-bc7d-fd678c989c39",
   "metadata": {},
   "outputs": [
    {
     "name": "stdout",
     "output_type": "stream",
     "text": [
      "Empty DataFrame\n",
      "Columns: [time, glucose, calories, heart_rate, steps, basal_rate, bolus_volume_delivered, carb_input, patient_id]\n",
      "Index: []\n"
     ]
    }
   ],
   "source": [
    "df['bolus_volume_delivered'] = df['bolus_volume_delivered'].clip(lower=0)\n",
    "print(df[df['bolus_volume_delivered'] < 0])"
   ]
  },
  {
   "cell_type": "code",
   "execution_count": 28,
   "id": "431d562f-8c02-44e9-9c5e-ec33ac301e73",
   "metadata": {},
   "outputs": [],
   "source": [
    "df = merge_rawfiles()\n",
    "standardize_basedontime(df)\n",
    "df['HR_Category'] = df['heart_rate'].apply(hr_category)\n",
    "df"
   ]
  },
  {
   "cell_type": "markdown",
   "id": "811e3be7-8337-450c-adca-8b0f09daa999",
   "metadata": {},
   "source": [
    "### Demographic dataset verification\n",
    "\n",
    "#### To ensure the dataset has non null, non na and unique values"
   ]
  },
  {
   "cell_type": "code",
   "execution_count": 78,
   "id": "93c152cc-3325-4546-8502-d2cd9ff986db",
   "metadata": {},
   "outputs": [
    {
     "name": "stdout",
     "output_type": "stream",
     "text": [
      "\u001b[1mShape:\u001b[0m  (25, 7)\n",
      "<class 'pandas.core.frame.DataFrame'>\n",
      "RangeIndex: 25 entries, 0 to 24\n",
      "Data columns (total 7 columns):\n",
      " #   Column                        Non-Null Count  Dtype  \n",
      "---  ------                        --------------  -----  \n",
      " 0   Patient_ID                    25 non-null     object \n",
      " 1   Age                           25 non-null     int64  \n",
      " 2   Gender                        25 non-null     object \n",
      " 3   Race                          25 non-null     object \n",
      " 4   Average Sleep Duration (hrs)  25 non-null     float64\n",
      " 5   Sleep Quality (1-10)          25 non-null     float64\n",
      " 6   % with Sleep Disturbances     25 non-null     int64  \n",
      "dtypes: float64(2), int64(2), object(3)\n",
      "memory usage: 1.5+ KB\n",
      "\u001b[1mInfo:\u001b[0m  None\n",
      "\u001b[1mSum of null:\u001b[0m\n",
      " Patient_ID                      0\n",
      "Age                             0\n",
      "Gender                          0\n",
      "Race                            0\n",
      "Average Sleep Duration (hrs)    0\n",
      "Sleep Quality (1-10)            0\n",
      "% with Sleep Disturbances       0\n",
      "dtype: int64\n",
      "\u001b[1mSum of na:\u001b[0m\n",
      " Patient_ID                      0\n",
      "Age                             0\n",
      "Gender                          0\n",
      "Race                            0\n",
      "Average Sleep Duration (hrs)    0\n",
      "Sleep Quality (1-10)            0\n",
      "% with Sleep Disturbances       0\n",
      "dtype: int64\n",
      "\u001b[1mSum of duplicated:\u001b[0m\n",
      " 0\n",
      "\u001b[1mDescribe:\u001b[0m\n",
      "\n"
     ]
    },
    {
     "data": {
      "text/html": [
       "<div>\n",
       "<style scoped>\n",
       "    .dataframe tbody tr th:only-of-type {\n",
       "        vertical-align: middle;\n",
       "    }\n",
       "\n",
       "    .dataframe tbody tr th {\n",
       "        vertical-align: top;\n",
       "    }\n",
       "\n",
       "    .dataframe thead th {\n",
       "        text-align: right;\n",
       "    }\n",
       "</style>\n",
       "<table border=\"1\" class=\"dataframe\">\n",
       "  <thead>\n",
       "    <tr style=\"text-align: right;\">\n",
       "      <th></th>\n",
       "      <th>count</th>\n",
       "      <th>mean</th>\n",
       "      <th>std</th>\n",
       "      <th>min</th>\n",
       "      <th>25%</th>\n",
       "      <th>50%</th>\n",
       "      <th>75%</th>\n",
       "      <th>max</th>\n",
       "    </tr>\n",
       "  </thead>\n",
       "  <tbody>\n",
       "    <tr>\n",
       "      <th>Age</th>\n",
       "      <td>25.0</td>\n",
       "      <td>46.680</td>\n",
       "      <td>15.544881</td>\n",
       "      <td>20.0</td>\n",
       "      <td>34.0</td>\n",
       "      <td>46.0</td>\n",
       "      <td>62.0</td>\n",
       "      <td>74.0</td>\n",
       "    </tr>\n",
       "    <tr>\n",
       "      <th>Average Sleep Duration (hrs)</th>\n",
       "      <td>25.0</td>\n",
       "      <td>5.972</td>\n",
       "      <td>0.669900</td>\n",
       "      <td>5.0</td>\n",
       "      <td>5.4</td>\n",
       "      <td>5.9</td>\n",
       "      <td>6.6</td>\n",
       "      <td>7.2</td>\n",
       "    </tr>\n",
       "    <tr>\n",
       "      <th>Sleep Quality (1-10)</th>\n",
       "      <td>25.0</td>\n",
       "      <td>5.952</td>\n",
       "      <td>1.342609</td>\n",
       "      <td>4.1</td>\n",
       "      <td>4.6</td>\n",
       "      <td>5.9</td>\n",
       "      <td>7.1</td>\n",
       "      <td>7.9</td>\n",
       "    </tr>\n",
       "    <tr>\n",
       "      <th>% with Sleep Disturbances</th>\n",
       "      <td>25.0</td>\n",
       "      <td>52.800</td>\n",
       "      <td>17.682383</td>\n",
       "      <td>30.0</td>\n",
       "      <td>40.0</td>\n",
       "      <td>50.0</td>\n",
       "      <td>70.0</td>\n",
       "      <td>80.0</td>\n",
       "    </tr>\n",
       "  </tbody>\n",
       "</table>\n",
       "</div>"
      ],
      "text/plain": [
       "                              count    mean        std   min   25%   50%  \\\n",
       "Age                            25.0  46.680  15.544881  20.0  34.0  46.0   \n",
       "Average Sleep Duration (hrs)   25.0   5.972   0.669900   5.0   5.4   5.9   \n",
       "Sleep Quality (1-10)           25.0   5.952   1.342609   4.1   4.6   5.9   \n",
       "% with Sleep Disturbances      25.0  52.800  17.682383  30.0  40.0  50.0   \n",
       "\n",
       "                               75%   max  \n",
       "Age                           62.0  74.0  \n",
       "Average Sleep Duration (hrs)   6.6   7.2  \n",
       "Sleep Quality (1-10)           7.1   7.9  \n",
       "% with Sleep Disturbances     70.0  80.0  "
      ]
     },
     "execution_count": 78,
     "metadata": {},
     "output_type": "execute_result"
    }
   ],
   "source": [
    "print(\"\\033[1mShape:\\033[0m \", demographic_df.shape)\n",
    "print(\"\\033[1mInfo:\\033[0m \", demographic_df.info())\n",
    "print(\"\\033[1mSum of null:\\033[0m\\n\", demographic_df.isnull().sum())\n",
    "print(\"\\033[1mSum of na:\\033[0m\\n\", demographic_df.isna().sum())\n",
    "print(\"\\033[1mSum of duplicated:\\033[0m\\n\", demographic_df.duplicated().sum())\n",
    "print(\"\\033[1mDescribe:\\033[0m\\n\")\n",
    "demographic_df.describe().T"
   ]
  },
  {
   "cell_type": "code",
   "execution_count": null,
   "id": "5843466d-91c2-4561-af75-0e5b117382bf",
   "metadata": {},
   "outputs": [],
   "source": []
  }
 ],
 "metadata": {
  "kernelspec": {
   "display_name": "Python 3 (ipykernel)",
   "language": "python",
   "name": "python3"
  },
  "language_info": {
   "codemirror_mode": {
    "name": "ipython",
    "version": 3
   },
   "file_extension": ".py",
   "mimetype": "text/x-python",
   "name": "python",
   "nbconvert_exporter": "python",
   "pygments_lexer": "ipython3",
   "version": "3.12.7"
  }
 },
 "nbformat": 4,
 "nbformat_minor": 5
}
