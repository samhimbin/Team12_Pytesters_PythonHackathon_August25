{
 "cells": [
  {
   "cell_type": "markdown",
   "id": "31a84eea-fcd0-44de-8b3e-f0100d403147",
   "metadata": {},
   "source": [
    "# 1. Data pre-preparation"
   ]
  },
  {
   "cell_type": "code",
   "execution_count": 22,
   "id": "a299df2d-5b87-483a-a284-e60b0a999c96",
   "metadata": {},
   "outputs": [],
   "source": [
    "import glob\n",
    "import os\n",
    "import pandas as pd"
   ]
  },
  {
   "cell_type": "code",
   "execution_count": null,
   "id": "5dbf96c6-bb7c-420f-a8f4-96700f660b28",
   "metadata": {},
   "outputs": [],
   "source": []
  },
  {
   "cell_type": "code",
   "execution_count": 23,
   "id": "a3df28ef-6ebd-462f-a553-f948efae831a",
   "metadata": {},
   "outputs": [],
   "source": [
    "# Get all csv files from folder\n",
    "files = glob.glob(r\"C:\\Febi\\NumpyNinja\\Hackathon\\Python_Launch Folder\\Launch Folder\\HUPA-UC Diabetes Dataset\\*.csv\")\n"
   ]
  },
  {
   "cell_type": "markdown",
   "id": "ebe97423-81a2-40c3-b3c2-3a00646b6d2a",
   "metadata": {},
   "source": [
    "**Merging 25 patient data files as one file for cleanup and Analysis**\n",
    "<h5>Adding patient_Id column as unique identifier based on filename</h5>"
   ]
  },
  {
   "cell_type": "code",
   "execution_count": 25,
   "id": "23d507bc-5720-4ae1-8789-09d5a4e33ab6",
   "metadata": {},
   "outputs": [],
   "source": [
    "def merge_rawfiles():\n",
    "# Merging raw data file as one file\n",
    "    df_files = []\n",
    "    for file in files:\n",
    "\n",
    "        filename = os.path.basename(file)\n",
    "        if not filename.startswith(\"HUPA\"):\n",
    "            continue\n",
    "        df = pd.read_csv(file,sep=\";\") \n",
    "\n",
    "        # Uniform column header in all files\n",
    "        df.columns = df.columns.str.strip().str.lower()\n",
    "        \n",
    "        #Add patient_id\n",
    "        df[\"patient_id\"] = filename\n",
    "        df_files.append(df)\n",
    "\n",
    "    # Merge the patient data files\n",
    "    df = pd.concat(df_files, ignore_index=True)\n",
    "\n",
    "    # Saving it as Single Merged file\n",
    "    df.to_csv(\"mergedraw_file.csv\", index=False)\n",
    "    return df"
   ]
  },
  {
   "cell_type": "markdown",
   "id": "21b0a942-9f64-43ea-9583-679bcabd3c6b",
   "metadata": {},
   "source": [
    "<h4>standardize based on time</h4>\n",
    "<h5><font=\"TimesNewRoman\">Parsed datetime, removed duplicate rows based on time and set time as index</font></h5>"
   ]
  },
  {
   "cell_type": "code",
   "execution_count": 27,
   "id": "0ff41739-e801-42ca-8a31-87ae5dc5d8f0",
   "metadata": {},
   "outputs": [],
   "source": [
    "def standardize_basedontime(df):\n",
    "\n",
    "    # Time Parser for datetime calculation\n",
    "    if \"time\" in df.columns:\n",
    "        df[\"time\"] = pd.to_datetime(df[\"time\"],errors=\"coerce\")\n",
    "\n",
    "    # Setting the time column as index\n",
    "    df.set_index(\"time\")\n",
    "        \n",
    "    # Removing duplicate rows\n",
    "    df = df.drop_duplicates(subset=[\"time\"])\n"
   ]
  },
  {
   "cell_type": "markdown",
   "id": "1a317097-a763-4d07-867f-b057f3e89557",
   "metadata": {},
   "source": [
    "### Heart Rate column pre-processing\n",
    "\n",
    "#### Reasoning: HR Range validation and categorizing helps for grouped analysis"
   ]
  },
  {
   "cell_type": "code",
   "execution_count": 38,
   "id": "1729b0e7-0f0b-4b0c-aa59-995b406c6b86",
   "metadata": {},
   "outputs": [],
   "source": [
    "def hr_category(hr):\n",
    "\n",
    "    # To HR Range validation and categorizing\n",
    "    if  (hr >= 40) & (hr <= 100): \n",
    "        return 'Normal'\n",
    "         \n",
    "    elif  (hr >= 101) & (hr <= 180):\n",
    "      return 'Active'\n",
    "    \n",
    "    elif (hr >= 180) & (hr < 220):\n",
    "       return 'High'\n",
    "\n",
    "    else: \n",
    "        return 'Abnormal'"
   ]
  },
  {
   "cell_type": "markdown",
   "id": "851688e4-9cc3-44d1-9d40-288262d3f310",
   "metadata": {},
   "source": [
    "### Steps column validation \n",
    "\n",
    "#### Reasoning: Validation of steps column range between 0 - 1500 to investigate extreme outliers and negative values.\n"
   ]
  },
  {
   "cell_type": "code",
   "execution_count": 41,
   "id": "c3c19a69-7a2d-492e-9f3c-49cdebbf4bb7",
   "metadata": {},
   "outputs": [
    {
     "data": {
      "text/plain": [
       "0.0"
      ]
     },
     "execution_count": 41,
     "metadata": {},
     "output_type": "execute_result"
    }
   ],
   "source": [
    "df[(df['steps'] < 0) | (df['steps'] > 1500)]['steps'].sum()"
   ]
  },
  {
   "cell_type": "markdown",
   "id": "75226485-4b78-411c-ace7-58c0e6eb8b2e",
   "metadata": {},
   "source": [
    "### Carb_input validation\n",
    "\n",
    "#### Reasoning: Validation of carb_input column to investigate extreme outliers and negative values. "
   ]
  },
  {
   "cell_type": "code",
   "execution_count": 44,
   "id": "e8e72874-318c-4870-b97c-8f958a52307a",
   "metadata": {},
   "outputs": [
    {
     "data": {
      "text/plain": [
       "0.0"
      ]
     },
     "execution_count": 44,
     "metadata": {},
     "output_type": "execute_result"
    }
   ],
   "source": [
    "df[(df['carb_input'] < 0) | (df['carb_input'] > 150)]['carb_input'].sum()"
   ]
  },
  {
   "cell_type": "code",
   "execution_count": 28,
   "id": "431d562f-8c02-44e9-9c5e-ec33ac301e73",
   "metadata": {},
   "outputs": [],
   "source": [
    "df = merge_rawfiles()\n",
    "standardize_basedontime(df)\n",
    "df['HR_Category'] = df['heart_rate'].apply(hr_category)\n",
    "df"
   ]
  },
  {
   "cell_type": "code",
   "execution_count": null,
   "id": "eddfe58a-becf-4ea4-b236-2be119215e2b",
   "metadata": {},
   "outputs": [],
   "source": []
  },
  {
   "cell_type": "code",
   "execution_count": null,
   "id": "36833728-5f05-42de-89f5-359eb9f03379",
   "metadata": {},
   "outputs": [],
   "source": []
  },
  {
   "cell_type": "code",
   "execution_count": null,
   "id": "6d3575b7-9647-43c2-9004-8a045f279580",
   "metadata": {},
   "outputs": [],
   "source": []
  }
 ],
 "metadata": {
  "kernelspec": {
   "display_name": "Python 3 (ipykernel)",
   "language": "python",
   "name": "python3"
  },
  "language_info": {
   "codemirror_mode": {
    "name": "ipython",
    "version": 3
   },
   "file_extension": ".py",
   "mimetype": "text/x-python",
   "name": "python",
   "nbconvert_exporter": "python",
   "pygments_lexer": "ipython3",
   "version": "3.12.7"
  }
 },
 "nbformat": 4,
 "nbformat_minor": 5
}
