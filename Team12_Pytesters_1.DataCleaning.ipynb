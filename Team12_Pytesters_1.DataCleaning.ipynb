{
 "cells": [
  {
   "cell_type": "markdown",
   "id": "31a84eea-fcd0-44de-8b3e-f0100d403147",
   "metadata": {},
   "source": [
    "Data Cleaning to analyze given data set having relationship between lifestyle behaviors (activity, sleep, diet) and glucose regulation in diabetic patients."
   ]
  },
  {
   "cell_type": "code",
   "execution_count": null,
   "id": "a299df2d-5b87-483a-a284-e60b0a999c96",
   "metadata": {},
   "outputs": [],
   "source": [
    "import glob\n",
    "import os\n",
    "import pandas as pd"
   ]
  },
  {
   "cell_type": "code",
   "execution_count": 93,
   "id": "a3df28ef-6ebd-462f-a553-f948efae831a",
   "metadata": {},
   "outputs": [],
   "source": [
    "# Get all csv files from folder\n",
    "files = glob.glob(\"/Users/venmeen/Downloads/HUPA-UC Diabetes Dataset/*.csv\")\n"
   ]
  },
  {
   "cell_type": "markdown",
   "id": "ebe97423-81a2-40c3-b3c2-3a00646b6d2a",
   "metadata": {},
   "source": [
    "**Merging 25 patient data files as one file for cleanup and Analysis**\n",
    "<h5>Adding patient_Id column as unique identifier based on filename</h5>"
   ]
  },
  {
   "cell_type": "code",
   "execution_count": 177,
   "id": "23d507bc-5720-4ae1-8789-09d5a4e33ab6",
   "metadata": {},
   "outputs": [],
   "source": [
    "def merge_rawfiles():\n",
    "# Merging raw data file as one file\n",
    "    df_files = []\n",
    "    for file in files:\n",
    "\n",
    "        filename = os.path.basename(file)\n",
    "        if not filename.startswith(\"HUPA\"):\n",
    "            continue\n",
    "        df = pd.read_csv(file,sep=\";\") \n",
    "\n",
    "        # Uniform column header in all files\n",
    "        df.columns = df.columns.str.strip().str.lower()\n",
    "        \n",
    "        #Add patient_id\n",
    "        df[\"patient_id\"] = filename\n",
    "        df_files.append(df)\n",
    "\n",
    "    # Merge the patient data files\n",
    "    df = pd.concat(df_files, ignore_index=True)\n",
    "\n",
    "    # Saving it as Single Merged file\n",
    "    df.to_csv(\"mergedraw_file.csv\", index=False)\n",
    "    "
   ]
  },
  {
   "cell_type": "markdown",
   "id": "21b0a942-9f64-43ea-9583-679bcabd3c6b",
   "metadata": {},
   "source": [
    "<h4>standardize based on time</h4>\n",
    "<h5><font=\"TimesNewRoman\">Parsed datetime, removed duplicate rows based on time and set time as index</font></h5>"
   ]
  },
  {
   "cell_type": "code",
   "execution_count": 179,
   "id": "0ff41739-e801-42ca-8a31-87ae5dc5d8f0",
   "metadata": {},
   "outputs": [],
   "source": [
    "def standardize_basedontime(df):\n",
    "\n",
    "    # Time Parser for datetime calculation\n",
    "    if \"time\" in df.columns:\n",
    "        df[\"time\"] = pd.to_datetime(df[\"time\"],errors=\"coerce\")\n",
    "\n",
    "    # Setting the time column as index\n",
    "    df.set_index(\"time\")\n",
    "        \n",
    "    # Removing duplicate rows\n",
    "    df = df.drop_duplicates(subset=[\"time\"])\n"
   ]
  },
  {
   "cell_type": "code",
   "execution_count": 187,
   "id": "431d562f-8c02-44e9-9c5e-ec33ac301e73",
   "metadata": {},
   "outputs": [],
   "source": [
    "def main():\n",
    "    merge_rawfiles()\n",
    "    standardize_basedontime(df)"
   ]
  },
  {
   "cell_type": "code",
   "execution_count": 189,
   "id": "36833728-5f05-42de-89f5-359eb9f03379",
   "metadata": {},
   "outputs": [],
   "source": [
    "if __name__ == \"__main__\":\n",
    "    main()"
   ]
  },
  {
   "cell_type": "code",
   "execution_count": null,
   "id": "6d3575b7-9647-43c2-9004-8a045f279580",
   "metadata": {},
   "outputs": [],
   "source": []
  }
 ],
 "metadata": {
  "kernelspec": {
   "display_name": "Python [conda env:base] *",
   "language": "python",
   "name": "conda-base-py"
  },
  "language_info": {
   "codemirror_mode": {
    "name": "ipython",
    "version": 3
   },
   "file_extension": ".py",
   "mimetype": "text/x-python",
   "name": "python",
   "nbconvert_exporter": "python",
   "pygments_lexer": "ipython3",
   "version": "3.12.2"
  }
 },
 "nbformat": 4,
 "nbformat_minor": 5
}
