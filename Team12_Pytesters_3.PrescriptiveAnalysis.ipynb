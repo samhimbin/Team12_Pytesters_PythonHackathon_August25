{
 "cells": [
  {
   "cell_type": "markdown",
   "id": "3dfc2882-dbac-4828-ae0d-de4f7d462e2f",
   "metadata": {},
   "source": [
    "<h1 style=\"text-align: center;\"><b>3.Prescriptive Analysis</b></h1>"
   ]
  }
 ],
 "metadata": {
  "kernelspec": {
   "display_name": "Python 3 (ipykernel)",
   "language": "python",
   "name": "python3"
  },
  "language_info": {
   "codemirror_mode": {
    "name": "ipython",
    "version": 3
   },
   "file_extension": ".py",
   "mimetype": "text/x-python",
   "name": "python",
   "nbconvert_exporter": "python",
   "pygments_lexer": "ipython3",
   "version": "3.13.5"
  }
 },
 "nbformat": 4,
 "nbformat_minor": 5
}
