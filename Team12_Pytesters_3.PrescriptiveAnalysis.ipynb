{
 "cells": [
  {
   "cell_type": "code",
   "execution_count": 1,
   "id": "a488d02c",
   "metadata": {},
   "outputs": [],
   "source": [
    "import pandas as pd\n",
    "import numpy as np\n",
    "import os\n",
    "import matplotlib.pyplot as plt\n",
    "import seaborn as sns"
   ]
  },
  {
   "cell_type": "code",
   "execution_count": 2,
   "id": "439c9c33",
   "metadata": {},
   "outputs": [],
   "source": [
    "df = pd.read_csv(\"C:\\\\dev\\\\PythonHackLearning\\\\merged_patients.csv\")"
   ]
  },
  {
   "cell_type": "markdown",
   "id": "8839a653",
   "metadata": {},
   "source": [
    "Q1 : Using prescriptive analysis, visualize patients options when Glucose is too high or too low. \n",
    "\n",
    "Solution in Progress"
   ]
  },
  {
   "cell_type": "code",
   "execution_count": 13,
   "id": "8005a960",
   "metadata": {},
   "outputs": [],
   "source": [
    "df['time'] = pd.to_datetime(df['time'])\n",
    "\n",
    "df['glucose_diff'] = df.groupby('Patient_ID')['glucose'].diff()"
   ]
  },
  {
   "cell_type": "code",
   "execution_count": 9,
   "id": "ccdd5171",
   "metadata": {},
   "outputs": [],
   "source": [
    "patient_id = \"HUPA0001P\"\n",
    "patient_df = df[df['Patient_ID'] == patient_id]"
   ]
  },
  {
   "cell_type": "markdown",
   "id": "8972a4c7",
   "metadata": {},
   "source": [
    "Q2 : Create a chart or graph to show, what is the ideal solution if heart_rate is low and glucose is rising ?"
   ]
  },
  {
   "cell_type": "code",
   "execution_count": 14,
   "id": "b81de05b",
   "metadata": {},
   "outputs": [],
   "source": [
    "df['condition'] = (df['heart_rate'] < 60) & (df['glucose_diff'] > 0)"
   ]
  },
  {
   "cell_type": "code",
   "execution_count": null,
   "id": "1d84ccfc",
   "metadata": {},
   "outputs": [],
   "source": [
    "plt.figure(figsize=(12,6))\n",
    "\n",
    "sns.lineplot(x='time', y='glucose', data=patient_df, color='red', marker='o', label='Glucose')\n",
    "sns.lineplot(x='time', y='heart_rate', data=patient_df, color='blue', marker='s', label='Heart Rate')\n",
    "\n",
    "# Highlight prescriptive condition points\n",
    "cond_points = patient_df[patient_df['condition']]\n",
    "plt.scatter(cond_points['time'], cond_points['glucose'], \n",
    "            color='black', s=50, label='Low HR & Rising Glucose(Suggest: Light walk / adjust carb intake)')\n",
    "\n",
    "plt.title(f\"Prescriptive Chart for Patient {patient_id}: Low HR with Rising Glucose\")\n",
    "plt.xlabel(\"Time\")\n",
    "plt.ylabel(\"Glucose & HR Values\")\n",
    "plt.legend()\n",
    "plt.xticks(rotation=45)\n",
    "plt.tight_layout()\n",
    "plt.show()"
   ]
  },
  {
   "cell_type": "markdown",
   "id": "fe886fef",
   "metadata": {},
   "source": [
    "Q3 : Using visualization, show patients with rising glucose at times during the day and suggest how this can be controlled"
   ]
  },
  {
   "cell_type": "code",
   "execution_count": null,
   "id": "bba05db2",
   "metadata": {},
   "outputs": [],
   "source": [
    "df['rising_glucose'] = df['glucose_diff'] > 30"
   ]
  },
  {
   "cell_type": "code",
   "execution_count": null,
   "id": "ad72825f",
   "metadata": {},
   "outputs": [],
   "source": [
    "day_glucose = (patient_df['time'].dt.hour >= 6) & (patient_df['time'].dt.hour <= 18)\n",
    "patient_day_df = patient_df[day_glucose]\n",
    "rising_glucose_df = patient_day_df[patient_day_df['rising_glucose']]\n",
    "\n",
    "plt.figure(figsize=(12,6))\n",
    "\n",
    "sns.lineplot(x='time', y='glucose', data=patient_day_df, marker='^', label='Glucose')\n",
    "\n",
    "plt.scatter(rising_glucose_df['time'], rising_glucose_df['glucose'], \n",
    "            color='red', s=80, label='Rising Glucose')\n",
    "\n",
    "plt.title(f\"Patient {patient_id} Glucose Rising Periods (6 AM - 10 PM)\")\n",
    "plt.xlabel(\"Time\")\n",
    "plt.ylabel(\"Glucose (mg/dL)\")\n",
    "plt.xticks(rotation=45)\n",
    "plt.legend()\n",
    "plt.tight_layout()\n",
    "plt.show()\n",
    "\n"
   ]
  },
  {
   "cell_type": "code",
   "execution_count": null,
   "id": "c720c19c",
   "metadata": {},
   "outputs": [],
   "source": [
    "# Optional: create a summary table of interventions\n",
    "interventions = rising_glucose_df[['time','glucose','carb_input']].copy()\n",
    "interventions['recommendation'] = interventions['carb_input'].apply(\n",
    "    lambda x: \"Adjust insulin\" if x > 0 else \"Light activity\"\n",
    ")\n",
    "print(interventions.head(10))\n"
   ]
  },
  {
   "cell_type": "markdown",
   "id": "c40f2e63",
   "metadata": {},
   "source": [
    "Q4 : Generate charts of patients whose glucose drops or rises within 30 mins and through prescriptive analysis recommend a solution."
   ]
  },
  {
   "cell_type": "code",
   "execution_count": null,
   "id": "44b44ac2",
   "metadata": {},
   "outputs": [],
   "source": []
  },
  {
   "cell_type": "markdown",
   "id": "c169939a",
   "metadata": {},
   "source": [
    "Q5 : Use bar graph to show poor sleep quality afftects glucose level and recommend bedtime routine using prescriptive analysis"
   ]
  },
  {
   "cell_type": "markdown",
   "id": "b3193bdf",
   "metadata": {},
   "source": [
    "Q6 : Show relationship between poor sleep + high carb intake is equal to more post-meal glucose spikes. Show how carb intake can remidiate this."
   ]
  },
  {
   "cell_type": "markdown",
   "id": "6b09ffd1",
   "metadata": {},
   "source": [
    "Q7 : Suggest insulin intake for patients with high Glucose after meal based on gender."
   ]
  },
  {
   "cell_type": "markdown",
   "id": "1e09148e",
   "metadata": {},
   "source": [
    "Q8 : SHow corelation between Calories intake and glucose spike and recommend diet plan."
   ]
  },
  {
   "cell_type": "markdown",
   "id": "a47b0f0b",
   "metadata": {},
   "source": [
    "Q9: If a patient’s glucose keeps spiking after dinner despite taking insulin, what changes in their evening meal plan or insulin timing could help stabilize their levels? Can we visualize this with meal vs glucose curves?"
   ]
  },
  {
   "cell_type": "markdown",
   "id": "064a2e41",
   "metadata": {},
   "source": [
    "Q10: When patients show both poor sleep quality and high resting heart rates, what lifestyle or medication adjustments can be suggested to improve recovery overnight? Can we plot sleep quality against heart rate to guide recommendations?"
   ]
  }
 ],
 "metadata": {
  "kernelspec": {
   "display_name": "Python 3",
   "language": "python",
   "name": "python3"
  },
  "language_info": {
   "codemirror_mode": {
    "name": "ipython",
    "version": 3
   },
   "file_extension": ".py",
   "mimetype": "text/x-python",
   "name": "python",
   "nbconvert_exporter": "python",
   "pygments_lexer": "ipython3",
   "version": "3.12.6"
  }
 },
 "nbformat": 4,
 "nbformat_minor": 5
}
