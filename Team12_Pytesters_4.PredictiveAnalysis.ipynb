{
 "cells": [
  {
   "cell_type": "markdown",
   "id": "78b4ee57-7fc9-454b-809e-901fe0a9bd07",
   "metadata": {},
   "source": [
    "<h1 style=\"text-align: center;\"><b>4.Predictive Analysis</b></h1>"
   ]
  },
  {
   "cell_type": "markdown",
   "id": "007957d5",
   "metadata": {
    "vscode": {
     "languageId": "plaintext"
    }
   },
   "source": [
    "<font size=\"4\">**Q.Given a patient's current glucose, calories, heart rate, and bolus volume delivered, can we predict their glucose level 30 minutes in the future?**</font>"
   ]
  },
  {
   "cell_type": "code",
   "execution_count": null,
   "id": "d13d042f",
   "metadata": {
    "vscode": {
     "languageId": "plaintext"
    }
   },
   "outputs": [],
   "source": []
  },
  {
   "cell_type": "markdown",
   "id": "ecdc20e7",
   "metadata": {},
   "source": []
  }
 ],
 "metadata": {
  "kernelspec": {
   "display_name": "Python 3 (ipykernel)",
   "language": "python",
   "name": "python3"
  },
  "language_info": {
   "codemirror_mode": {
    "name": "ipython",
    "version": 3
   },
   "file_extension": ".py",
   "mimetype": "text/x-python",
   "name": "python",
   "nbconvert_exporter": "python",
   "pygments_lexer": "ipython3",
   "version": "3.13.5"
  }
 },
 "nbformat": 4,
 "nbformat_minor": 5
}
