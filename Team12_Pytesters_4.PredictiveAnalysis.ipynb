{
 "cells": [
  {
   "cell_type": "markdown",
   "id": "78b4ee57-7fc9-454b-809e-901fe0a9bd07",
   "metadata": {},
   "source": [
    "<h1 style=\"text-align: center;\"><b>4.Predictive Analysis</b></h1>"
   ]
  },
  {
   "cell_type": "markdown",
   "id": "007957d5",
   "metadata": {
    "vscode": {
     "languageId": "plaintext"
    }
   },
   "source": [
    "<font size=\"4\">**Q.Given a patient's current glucose, calories, heart rate, and bolus volume delivered, can we predict their glucose level 30 minutes in the future?**</font>"
   ]
  },
  {
   "cell_type": "markdown",
   "id": "ffc36dba",
   "metadata": {},
   "source": [
    "<font size=3>**Explored basal insulin adequacy:**\n",
    "\n",
    "Identified that if hypoglycemia happens during fasting (no carb intake, no bolus) → basal insulin may be too high.</font>\n"
   ]
  },
  {
   "cell_type": "code",
   "execution_count": null,
   "id": "d13d042f",
   "metadata": {
    "vscode": {
     "languageId": "plaintext"
    }
   },
   "outputs": [],
   "source": [
    "import pandas as pd\n",
    "import plotly.express as px\n",
    "\n",
    "# Load dataset\n",
    "df = pd.read_csv(r\"C:\\Python_Hackathon_Aug2025\\HUPA-UC Diabetes Dataset\\HUPA0003P.csv\", sep=\";\")\n",
    "\n",
    "# Convert all column names in DataFrame to lowercase\n",
    "df.columns = df.columns.str.lower()\n",
    "print(df.columns)\n",
    "\n",
    "# Sort the data by time. which is essential for time-series analysis.\n",
    "df = df.sort_values(by='time').reset_index(drop=True)\n",
    "\n",
    "# Create the target variable: a 'future' glucose level.\n",
    "#predicts glucose for next 30 mins (5 min interval * 6 = 30 mins)\n",
    "# The last row will have a NaN value, which we must drop.\n",
    "df['future_glucose'] = df['glucose'].shift(-6)\n",
    "df.dropna(inplace=True)\n",
    "\n",
    "# Define the features (X) and the new target variable (y).\n",
    "features = ['glucose', 'calories', 'heart_rate', 'bolus_volume_delivered', 'carb_input']\n",
    "target = 'future_glucose'\n",
    "\n",
    "X = df[features]\n",
    "y = df[target]\n",
    "\n",
    "# For time-series data, it's crucial to split the data chronologically to prevent data leakage.\n",
    "# We'll use a simple index split (e.g., 80% for training, 20% for testing).\n",
    "split_point = int(len(df) * 0.8)\n",
    "\n",
    "X_train = X.iloc[:split_point]\n",
    "X_test = X.iloc[split_point:]\n",
    "y_train = y.iloc[:split_point]\n",
    "y_test = y.iloc[split_point:]\n",
    "\n",
    "# Print the shapes to confirm the time-based split\n",
    "print(f'Training features shape: {X_train.shape}')\n",
    "print(f'Testing features shape: {X_test.shape}')\n",
    "print(f'Training target shape: {y_train.shape}')\n",
    "print(f'Testing target shape: {y_test.shape}')\n",
    "\n",
    "# Now, we'll create a graph to visualize the split.\n",
    "# Combine the training and testing data for plotting and add a 'split' column\n",
    "df_train = X_train.copy()\n",
    "df_train['glucose_level'] = y_train\n",
    "df_train['split'] = 'Training'\n",
    "\n",
    "df_test = X_test.copy()\n",
    "df_test['glucose_level'] = y_test\n",
    "df_test['split'] = 'Testing'\n",
    "\n",
    "# Concatenate the dataframes to plot them together\n",
    "plot_df = pd.concat([df_train, df_test])\n",
    "\n",
    "# Plot the glucose levels over time, colored by the data split\n",
    "fig = px.line(\n",
    "    plot_df.reset_index(),\n",
    "    x='index',\n",
    "    y='glucose_level',\n",
    "    color='split',\n",
    "    title='Glucose Levels: Training vs. Testing Data Split',\n",
    "    labels={'index': 'Time Step', 'glucose_level': 'Glucose Level'}\n",
    ")\n",
    "\n",
    "# Show the plot\n",
    "fig.show()\n"
   ]
  },
  {
   "cell_type": "code",
   "execution_count": null,
   "id": "6929dc25",
   "metadata": {
    "vscode": {
     "languageId": "plaintext"
    }
   },
   "outputs": [],
   "source": []
  },
  {
   "cell_type": "markdown",
   "id": "d92cbf50",
   "metadata": {},
   "source": []
  },
  {
   "cell_type": "markdown",
   "id": "ecdc20e7",
   "metadata": {},
   "source": []
  }
 ],
 "metadata": {
  "kernelspec": {
   "display_name": "Python 3 (ipykernel)",
   "language": "python",
   "name": "python3"
  },
  "language_info": {
   "codemirror_mode": {
    "name": "ipython",
    "version": 3
   },
   "file_extension": ".py",
   "mimetype": "text/x-python",
   "name": "python",
   "nbconvert_exporter": "python",
   "pygments_lexer": "ipython3",
   "version": "3.13.5"
  }
 },
 "nbformat": 4,
 "nbformat_minor": 5
}
