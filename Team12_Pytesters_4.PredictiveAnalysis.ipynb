{
 "cells": [
  {
   "cell_type": "markdown",
   "id": "78b4ee57-7fc9-454b-809e-901fe0a9bd07",
   "metadata": {},
   "source": [
    "<h1 style=\"text-align: center;\"><b>4.Predictive Analysis</b></h1>"
   ]
  }
 ],
 "metadata": {
  "kernelspec": {
   "display_name": "Python 3 (ipykernel)",
   "language": "python",
   "name": "python3"
  },
  "language_info": {
   "codemirror_mode": {
    "name": "ipython",
    "version": 3
   },
   "file_extension": ".py",
   "mimetype": "text/x-python",
   "name": "python",
   "nbconvert_exporter": "python",
   "pygments_lexer": "ipython3",
   "version": "3.13.5"
  }
 },
 "nbformat": 4,
 "nbformat_minor": 5
}
